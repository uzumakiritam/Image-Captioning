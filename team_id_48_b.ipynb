{
 "cells": [
  {
   "cell_type": "code",
   "execution_count": 1,
   "metadata": {
    "execution": {
     "iopub.execute_input": "2025-04-13T18:29:04.559933Z",
     "iopub.status.busy": "2025-04-13T18:29:04.559200Z",
     "iopub.status.idle": "2025-04-13T18:29:19.147071Z",
     "shell.execute_reply": "2025-04-13T18:29:19.146152Z",
     "shell.execute_reply.started": "2025-04-13T18:29:04.559907Z"
    },
    "trusted": true
   },
   "outputs": [
    {
     "name": "stdout",
     "output_type": "stream",
     "text": [
      "Collecting evaluate\n",
      "  Downloading evaluate-0.4.3-py3-none-any.whl.metadata (9.2 kB)\n",
      "Requirement already satisfied: datasets>=2.0.0 in /usr/local/lib/python3.11/dist-packages (from evaluate) (3.5.0)\n",
      "Requirement already satisfied: numpy>=1.17 in /usr/local/lib/python3.11/dist-packages (from evaluate) (1.26.4)\n",
      "Requirement already satisfied: dill in /usr/local/lib/python3.11/dist-packages (from evaluate) (0.3.8)\n",
      "Requirement already satisfied: pandas in /usr/local/lib/python3.11/dist-packages (from evaluate) (2.2.3)\n",
      "Requirement already satisfied: requests>=2.19.0 in /usr/local/lib/python3.11/dist-packages (from evaluate) (2.32.3)\n",
      "Requirement already satisfied: tqdm>=4.62.1 in /usr/local/lib/python3.11/dist-packages (from evaluate) (4.67.1)\n",
      "Requirement already satisfied: xxhash in /usr/local/lib/python3.11/dist-packages (from evaluate) (3.5.0)\n",
      "Requirement already satisfied: multiprocess in /usr/local/lib/python3.11/dist-packages (from evaluate) (0.70.16)\n",
      "Requirement already satisfied: fsspec>=2021.05.0 in /usr/local/lib/python3.11/dist-packages (from fsspec[http]>=2021.05.0->evaluate) (2025.3.2)\n",
      "Requirement already satisfied: huggingface-hub>=0.7.0 in /usr/local/lib/python3.11/dist-packages (from evaluate) (0.30.2)\n",
      "Requirement already satisfied: packaging in /usr/local/lib/python3.11/dist-packages (from evaluate) (24.2)\n",
      "Requirement already satisfied: filelock in /usr/local/lib/python3.11/dist-packages (from datasets>=2.0.0->evaluate) (3.18.0)\n",
      "Requirement already satisfied: pyarrow>=15.0.0 in /usr/local/lib/python3.11/dist-packages (from datasets>=2.0.0->evaluate) (19.0.1)\n",
      "Collecting fsspec>=2021.05.0 (from fsspec[http]>=2021.05.0->evaluate)\n",
      "  Downloading fsspec-2024.12.0-py3-none-any.whl.metadata (11 kB)\n",
      "Requirement already satisfied: aiohttp in /usr/local/lib/python3.11/dist-packages (from datasets>=2.0.0->evaluate) (3.11.16)\n",
      "Requirement already satisfied: pyyaml>=5.1 in /usr/local/lib/python3.11/dist-packages (from datasets>=2.0.0->evaluate) (6.0.2)\n",
      "Requirement already satisfied: typing-extensions>=3.7.4.3 in /usr/local/lib/python3.11/dist-packages (from huggingface-hub>=0.7.0->evaluate) (4.13.1)\n",
      "Requirement already satisfied: mkl_fft in /usr/local/lib/python3.11/dist-packages (from numpy>=1.17->evaluate) (1.3.8)\n",
      "Requirement already satisfied: mkl_random in /usr/local/lib/python3.11/dist-packages (from numpy>=1.17->evaluate) (1.2.4)\n",
      "Requirement already satisfied: mkl_umath in /usr/local/lib/python3.11/dist-packages (from numpy>=1.17->evaluate) (0.1.1)\n",
      "Requirement already satisfied: mkl in /usr/local/lib/python3.11/dist-packages (from numpy>=1.17->evaluate) (2025.1.0)\n",
      "Requirement already satisfied: tbb4py in /usr/local/lib/python3.11/dist-packages (from numpy>=1.17->evaluate) (2022.1.0)\n",
      "Requirement already satisfied: mkl-service in /usr/local/lib/python3.11/dist-packages (from numpy>=1.17->evaluate) (2.4.1)\n",
      "Requirement already satisfied: charset-normalizer<4,>=2 in /usr/local/lib/python3.11/dist-packages (from requests>=2.19.0->evaluate) (3.4.1)\n",
      "Requirement already satisfied: idna<4,>=2.5 in /usr/local/lib/python3.11/dist-packages (from requests>=2.19.0->evaluate) (3.10)\n",
      "Requirement already satisfied: urllib3<3,>=1.21.1 in /usr/local/lib/python3.11/dist-packages (from requests>=2.19.0->evaluate) (2.3.0)\n",
      "Requirement already satisfied: certifi>=2017.4.17 in /usr/local/lib/python3.11/dist-packages (from requests>=2.19.0->evaluate) (2025.1.31)\n",
      "Requirement already satisfied: python-dateutil>=2.8.2 in /usr/local/lib/python3.11/dist-packages (from pandas->evaluate) (2.9.0.post0)\n",
      "Requirement already satisfied: pytz>=2020.1 in /usr/local/lib/python3.11/dist-packages (from pandas->evaluate) (2025.2)\n",
      "Requirement already satisfied: tzdata>=2022.7 in /usr/local/lib/python3.11/dist-packages (from pandas->evaluate) (2025.2)\n",
      "Requirement already satisfied: aiohappyeyeballs>=2.3.0 in /usr/local/lib/python3.11/dist-packages (from aiohttp->datasets>=2.0.0->evaluate) (2.6.1)\n",
      "Requirement already satisfied: aiosignal>=1.1.2 in /usr/local/lib/python3.11/dist-packages (from aiohttp->datasets>=2.0.0->evaluate) (1.3.2)\n",
      "Requirement already satisfied: attrs>=17.3.0 in /usr/local/lib/python3.11/dist-packages (from aiohttp->datasets>=2.0.0->evaluate) (25.3.0)\n",
      "Requirement already satisfied: frozenlist>=1.1.1 in /usr/local/lib/python3.11/dist-packages (from aiohttp->datasets>=2.0.0->evaluate) (1.5.0)\n",
      "Requirement already satisfied: multidict<7.0,>=4.5 in /usr/local/lib/python3.11/dist-packages (from aiohttp->datasets>=2.0.0->evaluate) (6.2.0)\n",
      "Requirement already satisfied: propcache>=0.2.0 in /usr/local/lib/python3.11/dist-packages (from aiohttp->datasets>=2.0.0->evaluate) (0.3.1)\n",
      "Requirement already satisfied: yarl<2.0,>=1.17.0 in /usr/local/lib/python3.11/dist-packages (from aiohttp->datasets>=2.0.0->evaluate) (1.19.0)\n",
      "Requirement already satisfied: six>=1.5 in /usr/local/lib/python3.11/dist-packages (from python-dateutil>=2.8.2->pandas->evaluate) (1.17.0)\n",
      "Requirement already satisfied: intel-openmp<2026,>=2024 in /usr/local/lib/python3.11/dist-packages (from mkl->numpy>=1.17->evaluate) (2024.2.0)\n",
      "Requirement already satisfied: tbb==2022.* in /usr/local/lib/python3.11/dist-packages (from mkl->numpy>=1.17->evaluate) (2022.1.0)\n",
      "Requirement already satisfied: tcmlib==1.* in /usr/local/lib/python3.11/dist-packages (from tbb==2022.*->mkl->numpy>=1.17->evaluate) (1.2.0)\n",
      "Requirement already satisfied: intel-cmplr-lib-rt in /usr/local/lib/python3.11/dist-packages (from mkl_umath->numpy>=1.17->evaluate) (2024.2.0)\n",
      "Requirement already satisfied: intel-cmplr-lib-ur==2024.2.0 in /usr/local/lib/python3.11/dist-packages (from intel-openmp<2026,>=2024->mkl->numpy>=1.17->evaluate) (2024.2.0)\n",
      "Downloading evaluate-0.4.3-py3-none-any.whl (84 kB)\n",
      "\u001b[2K   \u001b[90m━━━━━━━━━━━━━━━━━━━━━━━━━━━━━━━━━━━━━━━━\u001b[0m \u001b[32m84.0/84.0 kB\u001b[0m \u001b[31m2.0 MB/s\u001b[0m eta \u001b[36m0:00:00\u001b[0m00:01\u001b[0m\n",
      "\u001b[?25hDownloading fsspec-2024.12.0-py3-none-any.whl (183 kB)\n",
      "\u001b[2K   \u001b[90m━━━━━━━━━━━━━━━━━━━━━━━━━━━━━━━━━━━━━━━━\u001b[0m \u001b[32m183.9/183.9 kB\u001b[0m \u001b[31m5.6 MB/s\u001b[0m eta \u001b[36m0:00:00\u001b[0m\n",
      "\u001b[?25hInstalling collected packages: fsspec, evaluate\n",
      "  Attempting uninstall: fsspec\n",
      "    Found existing installation: fsspec 2025.3.2\n",
      "    Uninstalling fsspec-2025.3.2:\n",
      "      Successfully uninstalled fsspec-2025.3.2\n",
      "\u001b[31mERROR: pip's dependency resolver does not currently take into account all the packages that are installed. This behaviour is the source of the following dependency conflicts.\n",
      "gcsfs 2024.10.0 requires fsspec==2024.10.0, but you have fsspec 2024.12.0 which is incompatible.\n",
      "torch 2.5.1+cu124 requires nvidia-cublas-cu12==12.4.5.8; platform_system == \"Linux\" and platform_machine == \"x86_64\", but you have nvidia-cublas-cu12 12.8.4.1 which is incompatible.\n",
      "torch 2.5.1+cu124 requires nvidia-cudnn-cu12==9.1.0.70; platform_system == \"Linux\" and platform_machine == \"x86_64\", but you have nvidia-cudnn-cu12 9.3.0.75 which is incompatible.\n",
      "torch 2.5.1+cu124 requires nvidia-cufft-cu12==11.2.1.3; platform_system == \"Linux\" and platform_machine == \"x86_64\", but you have nvidia-cufft-cu12 11.3.3.83 which is incompatible.\n",
      "torch 2.5.1+cu124 requires nvidia-curand-cu12==10.3.5.147; platform_system == \"Linux\" and platform_machine == \"x86_64\", but you have nvidia-curand-cu12 10.3.9.90 which is incompatible.\n",
      "torch 2.5.1+cu124 requires nvidia-cusolver-cu12==11.6.1.9; platform_system == \"Linux\" and platform_machine == \"x86_64\", but you have nvidia-cusolver-cu12 11.7.3.90 which is incompatible.\n",
      "torch 2.5.1+cu124 requires nvidia-cusparse-cu12==12.3.1.170; platform_system == \"Linux\" and platform_machine == \"x86_64\", but you have nvidia-cusparse-cu12 12.5.8.93 which is incompatible.\n",
      "torch 2.5.1+cu124 requires nvidia-nvjitlink-cu12==12.4.127; platform_system == \"Linux\" and platform_machine == \"x86_64\", but you have nvidia-nvjitlink-cu12 12.8.93 which is incompatible.\n",
      "bigframes 1.36.0 requires rich<14,>=12.4.4, but you have rich 14.0.0 which is incompatible.\u001b[0m\u001b[31m\n",
      "\u001b[0mSuccessfully installed evaluate-0.4.3 fsspec-2024.12.0\n",
      "Collecting rouge_score\n",
      "  Downloading rouge_score-0.1.2.tar.gz (17 kB)\n",
      "  Preparing metadata (setup.py) ... \u001b[?25l\u001b[?25hdone\n",
      "Requirement already satisfied: absl-py in /usr/local/lib/python3.11/dist-packages (from rouge_score) (1.4.0)\n",
      "Requirement already satisfied: nltk in /usr/local/lib/python3.11/dist-packages (from rouge_score) (3.9.1)\n",
      "Requirement already satisfied: numpy in /usr/local/lib/python3.11/dist-packages (from rouge_score) (1.26.4)\n",
      "Requirement already satisfied: six>=1.14.0 in /usr/local/lib/python3.11/dist-packages (from rouge_score) (1.17.0)\n",
      "Requirement already satisfied: click in /usr/local/lib/python3.11/dist-packages (from nltk->rouge_score) (8.1.8)\n",
      "Requirement already satisfied: joblib in /usr/local/lib/python3.11/dist-packages (from nltk->rouge_score) (1.4.2)\n",
      "Requirement already satisfied: regex>=2021.8.3 in /usr/local/lib/python3.11/dist-packages (from nltk->rouge_score) (2024.11.6)\n",
      "Requirement already satisfied: tqdm in /usr/local/lib/python3.11/dist-packages (from nltk->rouge_score) (4.67.1)\n",
      "Requirement already satisfied: mkl_fft in /usr/local/lib/python3.11/dist-packages (from numpy->rouge_score) (1.3.8)\n",
      "Requirement already satisfied: mkl_random in /usr/local/lib/python3.11/dist-packages (from numpy->rouge_score) (1.2.4)\n",
      "Requirement already satisfied: mkl_umath in /usr/local/lib/python3.11/dist-packages (from numpy->rouge_score) (0.1.1)\n",
      "Requirement already satisfied: mkl in /usr/local/lib/python3.11/dist-packages (from numpy->rouge_score) (2025.1.0)\n",
      "Requirement already satisfied: tbb4py in /usr/local/lib/python3.11/dist-packages (from numpy->rouge_score) (2022.1.0)\n",
      "Requirement already satisfied: mkl-service in /usr/local/lib/python3.11/dist-packages (from numpy->rouge_score) (2.4.1)\n",
      "Requirement already satisfied: intel-openmp<2026,>=2024 in /usr/local/lib/python3.11/dist-packages (from mkl->numpy->rouge_score) (2024.2.0)\n",
      "Requirement already satisfied: tbb==2022.* in /usr/local/lib/python3.11/dist-packages (from mkl->numpy->rouge_score) (2022.1.0)\n",
      "Requirement already satisfied: tcmlib==1.* in /usr/local/lib/python3.11/dist-packages (from tbb==2022.*->mkl->numpy->rouge_score) (1.2.0)\n",
      "Requirement already satisfied: intel-cmplr-lib-rt in /usr/local/lib/python3.11/dist-packages (from mkl_umath->numpy->rouge_score) (2024.2.0)\n",
      "Requirement already satisfied: intel-cmplr-lib-ur==2024.2.0 in /usr/local/lib/python3.11/dist-packages (from intel-openmp<2026,>=2024->mkl->numpy->rouge_score) (2024.2.0)\n",
      "Building wheels for collected packages: rouge_score\n",
      "  Building wheel for rouge_score (setup.py) ... \u001b[?25l\u001b[?25hdone\n",
      "  Created wheel for rouge_score: filename=rouge_score-0.1.2-py3-none-any.whl size=24935 sha256=f29b85e19c6c75e7211ff28e136ffb1b278f6d7f75bc27356f67c510500f4edb\n",
      "  Stored in directory: /root/.cache/pip/wheels/1e/19/43/8a442dc83660ca25e163e1bd1f89919284ab0d0c1475475148\n",
      "Successfully built rouge_score\n",
      "Installing collected packages: rouge_score\n",
      "Successfully installed rouge_score-0.1.2\n"
     ]
    }
   ],
   "source": [
    "!pip install evaluate\n",
    "!pip install rouge_score\n",
    "\n"
   ]
  },
  {
   "cell_type": "code",
   "execution_count": 66,
   "metadata": {
    "execution": {
     "iopub.execute_input": "2025-04-14T02:21:29.267721Z",
     "iopub.status.busy": "2025-04-14T02:21:29.267211Z",
     "iopub.status.idle": "2025-04-14T02:21:29.273013Z",
     "shell.execute_reply": "2025-04-14T02:21:29.272181Z",
     "shell.execute_reply.started": "2025-04-14T02:21:29.267699Z"
    },
    "trusted": true
   },
   "outputs": [],
   "source": [
    "import os\n",
    "import torch\n",
    "from torch import nn, optim\n",
    "from torch.utils.data import Dataset, DataLoader, Subset\n",
    "from torchvision import transforms\n",
    "from PIL import Image\n",
    "import pandas as pd\n",
    "from tqdm import tqdm\n",
    "import evaluate\n",
    "import matplotlib.pyplot as plt\n",
    "import numpy as np\n",
    "from transformers import (\n",
    "    ViTModel, \n",
    "    GPT2LMHeadModel, \n",
    "    GPT2Tokenizer, \n",
    "    ViTImageProcessor, \n",
    "    pipeline,\n",
    "    AutoProcessor, \n",
    "    AutoModelForCausalLM,\n",
    "    GPT2Config,\n",
    "ViTFeatureExtractor,\n",
    "AutoModelForVision2Seq\n",
    ")\n",
    "import torch.nn.functional as F\n"
   ]
  },
  {
   "cell_type": "code",
   "execution_count": 12,
   "metadata": {
    "execution": {
     "iopub.execute_input": "2025-04-13T18:48:22.153586Z",
     "iopub.status.busy": "2025-04-13T18:48:22.152996Z",
     "iopub.status.idle": "2025-04-13T18:48:22.158924Z",
     "shell.execute_reply": "2025-04-13T18:48:22.158197Z",
     "shell.execute_reply.started": "2025-04-13T18:48:22.153558Z"
    },
    "trusted": true
   },
   "outputs": [],
   "source": [
    "## ================== PART B: OCCLUSION ANALYSIS ================== ##\n",
    "\n",
    "### 1. Image Occlusion Implementation\n",
    "def occlude_image(image_tensor, occlusion_level=0.1):\n",
    "    \"\"\"\n",
    "    Applies random patch occlusion to an image tensor (ViT-compatible 16x16 patches)\n",
    "    \n",
    "    Args:\n",
    "        image_tensor (torch.Tensor): [C, H, W] tensor\n",
    "        occlusion_level (float): 0-1 percentage of patches to occlude\n",
    "        \n",
    "    Returns:\n",
    "        torch.Tensor: Occluded image tensor\n",
    "    \"\"\"\n",
    "    C, H, W = image_tensor.shape\n",
    "    patch_size = 16\n",
    "    \n",
    "    # Create patch grid\n",
    "    num_patches_h = H // patch_size\n",
    "    num_patches_w = W // patch_size\n",
    "    num_patches = num_patches_h * num_patches_w\n",
    "    \n",
    "    # Create mask\n",
    "    num_occluded = int(num_patches * occlusion_level)\n",
    "    patch_indices = torch.randperm(num_patches)[:num_occluded]\n",
    "    \n",
    "    # Reshape into patches\n",
    "    patches = image_tensor.unfold(1, patch_size, patch_size)\\\n",
    "                         .unfold(2, patch_size, patch_size)\\\n",
    "                         .contiguous()\\\n",
    "                         .view(C, -1, patch_size, patch_size)\n",
    "    \n",
    "    # Apply occlusion (set to black)\n",
    "    for idx in patch_indices:\n",
    "        patches[:, idx] = 0\n",
    "    \n",
    "    # Reconstruct image\n",
    "    occluded_image = patches.view(C, num_patches_h, num_patches_w, patch_size, patch_size)\n",
    "    occluded_image = occluded_image.permute(0, 1, 3, 2, 4)\\\n",
    "                                  .contiguous()\\\n",
    "                                  .view(C, H, W)\n",
    "    return occluded_image\n",
    "\n"
   ]
  },
  {
   "cell_type": "code",
   "execution_count": 64,
   "metadata": {
    "execution": {
     "iopub.execute_input": "2025-04-14T02:20:46.846223Z",
     "iopub.status.busy": "2025-04-14T02:20:46.845793Z",
     "iopub.status.idle": "2025-04-14T02:20:46.860099Z",
     "shell.execute_reply": "2025-04-14T02:20:46.859321Z",
     "shell.execute_reply.started": "2025-04-14T02:20:46.846200Z"
    },
    "trusted": true
   },
   "outputs": [],
   "source": [
    "### 2. Modified Evaluation Function\n",
    "def evaluate_on_occluded_images(model, dataloader, device, occlusion_levels=[0.0], model_type=\"custom\"):\n",
    "    \"\"\"\n",
    "    Evaluates model performance at different occlusion levels\n",
    "    Saves results for Part C in '<original> <SEP> <generated> <SEP> <perturbation>' format\n",
    "    \"\"\"\n",
    "    results = {}\n",
    "    tokenizer = GPT2Tokenizer.from_pretrained(\"gpt2\") if model_type==\"custom\" else None\n",
    "    if tokenizer:\n",
    "        tokenizer.pad_token = tokenizer.eos_token\n",
    "    \n",
    "    # # Load evaluation metrics\n",
    "    # bleu = evaluate.load(\"bleu\")\n",
    "    # rouge = evaluate.load(\"rouge\")\n",
    "    # meteor = evaluate.load(\"meteor\")\n",
    "    \n",
    "    for level in occlusion_levels:\n",
    "        print(f\"\\nEvaluating at {level*100:.0f}% occlusion...\")\n",
    "        \n",
    "        predictions = []\n",
    "        references = []\n",
    "        filenames = []\n",
    "        \n",
    "        with torch.no_grad():\n",
    "            for batch in tqdm(dataloader, desc=f\"Processing {level*100:.0f}% occlusion\"):\n",
    "                # Handle different batch formats\n",
    "                #images, _, _, captions, paths = batch\n",
    "                images = batch['image']\n",
    "                captions=batch['caption']\n",
    "                paths=batch['filename']\n",
    "                \n",
    "                # Apply occlusion\n",
    "                occluded_images = torch.stack([\n",
    "                    occlude_image(img, level) for img in images\n",
    "                ]).to(device)\n",
    "                \n",
    "                # Generate captions\n",
    "                if model_type == \"custom\":\n",
    "                    batch_size = occluded_images.shape[0]\n",
    "                    \n",
    "                    # Initialize input_ids with BOS token\n",
    "                    input_ids = torch.full(\n",
    "                        (batch_size, 1),\n",
    "                        tokenizer.bos_token_id,\n",
    "                        dtype=torch.long,\n",
    "                        device=device\n",
    "                    )\n",
    "                    \n",
    "                    max_length = 128  # Define maximum caption length\n",
    "                    generated_captions = []\n",
    "                    \n",
    "                    for _ in range(max_length):\n",
    "                        # Forward pass through the model\n",
    "                        logits = model(occluded_images, input_ids)\n",
    "                        \n",
    "                        # Get next token logits and select the most probable token\n",
    "                        next_token_logits = logits[:, -1, :]\n",
    "                        next_tokens = torch.argmax(next_token_logits, dim=-1)\n",
    "                        \n",
    "                        # Append the predicted token to input_ids\n",
    "                        input_ids = torch.cat([input_ids, next_tokens.unsqueeze(1)], dim=1)\n",
    "                        \n",
    "                        # Stop if all sequences have reached EOS token\n",
    "                        if torch.all(next_tokens == tokenizer.eos_token_id):\n",
    "                            break\n",
    "                    \n",
    "                    # Decode generated tokens into text captions\n",
    "                    for ids in input_ids:\n",
    "                        generated_captions.append(tokenizer.decode(ids, skip_special_tokens=True))\n",
    "                    \n",
    "                    predictions.extend(generated_captions)\n",
    "                    # generated = model.generate(occluded_images, tokenizer)\n",
    "                else:  # SmolVLM\n",
    "                    generated = []\n",
    "                    for i, img in enumerate(occluded_images):\n",
    "                        # Save occluded image temporarily\n",
    "                        temp_path = f\"/tmp/occluded_{i}_{level}.jpg\"\n",
    "                        transforms.ToPILImage()(img.cpu()).save(temp_path)\n",
    "                        generated.append(zero_shot_captioning(temp_path))\n",
    "                \n",
    "                    predictions.extend(generated)\n",
    "                references.extend(captions)\n",
    "                filenames.extend(paths)\n",
    "        \n",
    "        # Calculate metrics\n",
    "        bleu_score = bleu.compute(predictions=predictions, references=[[ref] for ref in references])\n",
    "        rouge_score = rouge.compute(predictions=predictions, references=references)\n",
    "        meteor_score = meteor.compute(predictions=predictions, references=references)\n",
    "        \n",
    "        results[level] = {\n",
    "            \"bleu\": bleu_score[\"bleu\"],\n",
    "            \"rouge_l\": rouge_score[\"rougeL\"],\n",
    "            \"meteor\": meteor_score[\"meteor\"]\n",
    "        }\n",
    "        \n",
    "        # Save for Part C\n",
    "        save_perturbation_data(filenames, predictions, references, level, model_type)\n",
    "    \n",
    "    return results\n",
    "\n"
   ]
  },
  {
   "cell_type": "code",
   "execution_count": 11,
   "metadata": {
    "execution": {
     "iopub.execute_input": "2025-04-13T18:48:18.299905Z",
     "iopub.status.busy": "2025-04-13T18:48:18.299233Z",
     "iopub.status.idle": "2025-04-13T18:48:18.303733Z",
     "shell.execute_reply": "2025-04-13T18:48:18.302899Z",
     "shell.execute_reply.started": "2025-04-13T18:48:18.299884Z"
    },
    "trusted": true
   },
   "outputs": [],
   "source": [
    "# Ensure device compatibility\n",
    "device = torch.device(\"cuda\" if torch.cuda.is_available() else \"cpu\")"
   ]
  },
  {
   "cell_type": "code",
   "execution_count": 14,
   "metadata": {
    "execution": {
     "iopub.execute_input": "2025-04-13T18:48:25.959106Z",
     "iopub.status.busy": "2025-04-13T18:48:25.958794Z",
     "iopub.status.idle": "2025-04-13T18:48:25.964415Z",
     "shell.execute_reply": "2025-04-13T18:48:25.963703Z",
     "shell.execute_reply.started": "2025-04-13T18:48:25.959068Z"
    },
    "trusted": true
   },
   "outputs": [],
   "source": [
    "### 3. Data Saving for Part C\n",
    "def save_perturbation_data(filenames, predictions, references, occlusion_level, model_name):\n",
    "    \"\"\"Saves data in required format for classifier training\"\"\"\n",
    "    data = []\n",
    "    for path, pred, ref in zip(filenames, predictions, references):\n",
    "        data.append({\n",
    "            \"original\": ref,\n",
    "            \"generated\": pred,\n",
    "            \"perturbation\": occlusion_level,\n",
    "            \"model\": model_name,\n",
    "            \"image_path\": path\n",
    "        })\n",
    "    \n",
    "    df = pd.DataFrame(data)\n",
    "    \n",
    "    # Create output directory if it doesn't exist\n",
    "    os.makedirs(\"perturbation_data\", exist_ok=True)\n",
    "    \n",
    "    # Save to CSV\n",
    "    output_file = f\"perturbation_data/perturbation_data_{model_name}_{occlusion_level}.csv\"\n",
    "    df.to_csv(output_file, index=False)\n",
    "    print(f\"Saved perturbation data to {output_file}\")\n",
    "\n"
   ]
  },
  {
   "cell_type": "code",
   "execution_count": 15,
   "metadata": {
    "execution": {
     "iopub.execute_input": "2025-04-13T18:48:28.760928Z",
     "iopub.status.busy": "2025-04-13T18:48:28.760666Z",
     "iopub.status.idle": "2025-04-13T18:48:28.765768Z",
     "shell.execute_reply": "2025-04-13T18:48:28.765228Z",
     "shell.execute_reply.started": "2025-04-13T18:48:28.760909Z"
    },
    "trusted": true
   },
   "outputs": [],
   "source": [
    "### 4. Visualization Function\n",
    "def visualize_occlusion(image_tensor, occlusion_levels=[0.0, 0.1, 0.5, 0.8]):\n",
    "    \"\"\"Visualize the effect of different occlusion levels on an image\"\"\"\n",
    "    fig, axes = plt.subplots(1, len(occlusion_levels), figsize=(15, 3))\n",
    "    \n",
    "    for i, level in enumerate(occlusion_levels):\n",
    "        if level == 0.0:\n",
    "            img = image_tensor\n",
    "        else:\n",
    "            img = occlude_image(image_tensor, level)\n",
    "            \n",
    "        # Convert tensor to PIL image for display\n",
    "        img_pil = transforms.ToPILImage()(img)\n",
    "        axes[i].imshow(img_pil)\n",
    "        axes[i].set_title(f\"{int(level*100)}% Occlusion\")\n",
    "        axes[i].axis('off')\n",
    "    \n",
    "    plt.tight_layout()\n",
    "    plt.show()\n",
    "\n"
   ]
  },
  {
   "cell_type": "code",
   "execution_count": 20,
   "metadata": {
    "execution": {
     "iopub.execute_input": "2025-04-13T18:55:26.846233Z",
     "iopub.status.busy": "2025-04-13T18:55:26.845494Z",
     "iopub.status.idle": "2025-04-13T18:55:26.852839Z",
     "shell.execute_reply": "2025-04-13T18:55:26.852049Z",
     "shell.execute_reply.started": "2025-04-13T18:55:26.846196Z"
    },
    "trusted": true
   },
   "outputs": [],
   "source": [
    "class ImageCaptionDataset(Dataset):\n",
    "    def __init__(self, data_path, image_folder, transform=None, max_length=128):\n",
    "        \"\"\"\n",
    "        Args:\n",
    "            data_path (str): Path to the CSV file with annotations\n",
    "            image_folder (str): Directory with all the images\n",
    "            transform (callable, optional): Optional transform to be applied on an image\n",
    "            max_length (int): Maximum length of the caption\n",
    "        \"\"\"\n",
    "        self.data = pd.read_csv(data_path)\n",
    "        self.image_folder = image_folder\n",
    "        self.transform = transform\n",
    "        self.tokenizer = GPT2Tokenizer.from_pretrained('gpt2')\n",
    "        self.tokenizer.pad_token = self.tokenizer.eos_token\n",
    "        self.max_length = max_length\n",
    "\n",
    "    def __len__(self):\n",
    "        return len(self.data)\n",
    "\n",
    "    def __getitem__(self, idx):\n",
    "        filename = self.data.iloc[idx]['filename']  # Get filename from CSV\n",
    "        img_name = os.path.join(self.image_folder, filename)\n",
    "        image = Image.open(img_name).convert('RGB')\n",
    "\n",
    "        if self.transform:\n",
    "            image = self.transform(image)\n",
    "\n",
    "        caption = self.data.iloc[idx]['caption']  # Using 'caption' column\n",
    "\n",
    "        # Tokenize caption\n",
    "        caption_encoding = self.tokenizer(\n",
    "            caption,\n",
    "            padding='max_length',\n",
    "            max_length=self.max_length,\n",
    "            truncation=True,\n",
    "            return_tensors='pt'\n",
    "        )\n",
    "\n",
    "        return {\n",
    "            'image': image,\n",
    "            'input_ids': caption_encoding['input_ids'].squeeze(),\n",
    "            'attention_mask': caption_encoding['attention_mask'].squeeze(),\n",
    "            'caption': caption,\n",
    "            'filename': filename\n",
    "        }\n",
    "\n"
   ]
  },
  {
   "cell_type": "code",
   "execution_count": null,
   "metadata": {
    "execution": {
     "iopub.execute_input": "2025-04-13T18:55:27.839956Z",
     "iopub.status.busy": "2025-04-13T18:55:27.839640Z",
     "iopub.status.idle": "2025-04-13T18:55:27.851126Z",
     "shell.execute_reply": "2025-04-13T18:55:27.850220Z",
     "shell.execute_reply.started": "2025-04-13T18:55:27.839933Z"
    },
    "trusted": true
   },
   "outputs": [],
   "source": [
    "from transformers import ViTModel\n",
    "\n",
    "\n",
    "class ImageCaptionModel(nn.Module):\n",
    "    def __init__(self, vit_model_name='google/vit-base-patch16-224-in21k', gpt_model_name='gpt2', projection_dim=768):\n",
    "        \"\"\"\n",
    "        Custom Encoder-Decoder Model for Image Captioning using ViT as an encoder\n",
    "\n",
    "        Args:\n",
    "            vit_model_name (str): Name of the ViT model to use as encoder\n",
    "            gpt_model_name (str): Name of the GPT model to use as decoder\n",
    "            projection_dim (int): Dimension of the projection layer\n",
    "        \"\"\"\n",
    "        super(ImageCaptionModel, self).__init__()\n",
    "\n",
    "        # Load pre-trained ViT model as the encoder (using ViT-Small as specified in assignment)\n",
    "        self.encoder = ViTModel.from_pretrained(vit_model_name, token = \"xxx\")\n",
    "        encoder_dim = self.encoder.config.hidden_size\n",
    "\n",
    "        # Load pre-trained GPT-2 model as the decoder\n",
    "        self.decoder = GPT2LMHeadModel.from_pretrained(gpt_model_name)\n",
    "        decoder_dim = self.decoder.config.n_embd\n",
    "\n",
    "        # Projection layer to map encoder features to decoder dimension\n",
    "        self.projection = nn.Linear(encoder_dim, projection_dim)\n",
    "\n",
    "        # Cross-attention layers for decoder to attend to image features\n",
    "        self.cross_attn = nn.MultiheadAttention(projection_dim, num_heads=8, batch_first=True)\n",
    "\n",
    "        # Map projected image features to decoder dimension for conditioning\n",
    "        self.img_to_decoder_dim = nn.Linear(projection_dim, decoder_dim)\n",
    "\n",
    "        # Freeze some of the encoder layers to prevent overfitting and reduce memory usage\n",
    "        for param in list(self.encoder.parameters())[:6]:\n",
    "            param.requires_grad = False\n",
    "\n",
    "    def forward(self, pixel_values, input_ids, attention_mask=None):\n",
    "        \"\"\"\n",
    "        Forward pass of the model\n",
    "\n",
    "        Args:\n",
    "            pixel_values (torch.Tensor): Batch of images\n",
    "            input_ids (torch.Tensor): Tokenized captions\n",
    "            attention_mask (torch.Tensor, optional): Attention mask for captions\n",
    "\n",
    "        Returns:\n",
    "            torch.Tensor: Logits for predicting the next token\n",
    "        \"\"\"\n",
    "        # Encode the image\n",
    "        encoder_outputs = self.encoder(pixel_values)\n",
    "        image_features = encoder_outputs.last_hidden_state  # [batch_size, seq_len, hidden_size]\n",
    "\n",
    "        # Project image features to the common dimension\n",
    "        projected_features = self.projection(image_features)\n",
    "\n",
    "        # Process through GPT-2\n",
    "        # First, conditioning with image features\n",
    "        img_features_decoder_dim = self.img_to_decoder_dim(projected_features[:, 0].unsqueeze(1))\n",
    "\n",
    "        # Get embeddings from GPT-2\n",
    "        decoder_outputs = self.decoder(\n",
    "            input_ids=input_ids,\n",
    "            attention_mask=attention_mask,\n",
    "            output_hidden_states=True,\n",
    "            return_dict=True\n",
    "        )\n",
    "\n",
    "        # Get hidden states from the last layer\n",
    "        hidden_states = decoder_outputs.hidden_states[-1]\n",
    "\n",
    "        # Project hidden states to the common dimension for cross-attention\n",
    "        projected_hidden_states = F.linear(hidden_states, self.projection.weight.t())\n",
    "\n",
    "        # Apply cross-attention between text features and image features\n",
    "        cross_attended, _ = self.cross_attn(projected_hidden_states, projected_features, projected_features)\n",
    "\n",
    "        # Combine with original hidden states (add residuals)\n",
    "        final_hidden_states = hidden_states + cross_attended\n",
    "\n",
    "        # Project to vocabulary through decoder's language modeling head\n",
    "        lm_logits = self.decoder.lm_head(final_hidden_states)\n",
    "\n",
    "        return lm_logits"
   ]
  },
  {
   "cell_type": "code",
   "execution_count": 22,
   "metadata": {
    "execution": {
     "iopub.execute_input": "2025-04-13T18:55:29.421085Z",
     "iopub.status.busy": "2025-04-13T18:55:29.420755Z",
     "iopub.status.idle": "2025-04-13T18:55:29.428127Z",
     "shell.execute_reply": "2025-04-13T18:55:29.427115Z",
     "shell.execute_reply.started": "2025-04-13T18:55:29.421060Z"
    },
    "trusted": true
   },
   "outputs": [],
   "source": [
    "def zero_shot_captioning(image_path, model_name=\"smolvlm\"):\n",
    "    try:\n",
    "        if model_name == \"smolvlm\":\n",
    "            processor = AutoProcessor.from_pretrained(\"HuggingFaceTB/SmolVLM-500M-Instruct\")\n",
    "            model = AutoModelForVision2Seq.from_pretrained(\n",
    "                \"HuggingFaceTB/SmolVLM-500M-Instruct\",\n",
    "                torch_dtype=torch.float16,\n",
    "                _attn_implementation=\"eager\"\n",
    "            ).to(\"cuda\" if torch.cuda.is_available() else \"cpu\")\n",
    "\n",
    "            # 1. Prepare image and messages with proper structure\n",
    "            image = Image.open(image_path).convert(\"RGB\").resize((384, 384))\n",
    "            messages = [{\n",
    "                \"role\": \"user\",\n",
    "                \"content\": [\n",
    "                    {\"type\": \"image\"},\n",
    "                    {\"type\": \"text\", \"text\": \"Describe this image:\"}\n",
    "                ]\n",
    "            }]\n",
    "\n",
    "            # 2. Apply chat template\n",
    "            prompt = processor.apply_chat_template(messages, add_generation_prompt=True)\n",
    "\n",
    "            # 3. Process with both image and formatted prompt\n",
    "            inputs = processor(\n",
    "                text=prompt,\n",
    "                images=image,\n",
    "                return_tensors=\"pt\"\n",
    "            ).to(model.device)\n",
    "\n",
    "            # 4. Generate with proper parameters\n",
    "            generated_ids = model.generate(\n",
    "                **inputs,\n",
    "                max_new_tokens=50,\n",
    "                do_sample=False\n",
    "            )\n",
    "\n",
    "            caption = processor.batch_decode(generated_ids, skip_special_tokens=True)[0]\n",
    "            return caption\n",
    "\n",
    "        else:\n",
    "            raise ValueError(f\"Model {model_name} not supported.\")\n",
    "\n",
    "    except Exception as e:\n",
    "        print(f\"Error: {e}\")\n",
    "        return \"Error generating caption\"\n"
   ]
  },
  {
   "cell_type": "code",
   "execution_count": 62,
   "metadata": {
    "execution": {
     "iopub.execute_input": "2025-04-14T02:06:46.149381Z",
     "iopub.status.busy": "2025-04-14T02:06:46.148597Z",
     "iopub.status.idle": "2025-04-14T02:06:54.517592Z",
     "shell.execute_reply": "2025-04-14T02:06:54.516964Z",
     "shell.execute_reply.started": "2025-04-14T02:06:46.149357Z"
    },
    "trusted": true
   },
   "outputs": [
    {
     "name": "stderr",
     "output_type": "stream",
     "text": [
      "[nltk_data] Downloading package wordnet to /usr/share/nltk_data...\n",
      "[nltk_data]   Package wordnet is already up-to-date!\n",
      "[nltk_data] Downloading package punkt_tab to /usr/share/nltk_data...\n",
      "[nltk_data]   Package punkt_tab is already up-to-date!\n",
      "[nltk_data] Downloading package omw-1.4 to /usr/share/nltk_data...\n",
      "[nltk_data]   Package omw-1.4 is already up-to-date!\n",
      "/tmp/ipykernel_31/513468824.py:7: FutureWarning: You are using `torch.load` with `weights_only=False` (the current default value), which uses the default pickle module implicitly. It is possible to construct malicious pickle data which will execute arbitrary code during unpickling (See https://github.com/pytorch/pytorch/blob/main/SECURITY.md#untrusted-models for more details). In a future release, the default value for `weights_only` will be flipped to `True`. This limits the functions that could be executed during unpickling. Arbitrary objects will no longer be allowed to be loaded via this mode unless they are explicitly allowlisted by the user via `torch.serialization.add_safe_globals`. We recommend you start setting `weights_only=True` for any use case where you don't have full control of the loaded file. Please open an issue on GitHub for any issues related to this experimental feature.\n",
      "  custom_model.load_state_dict(torch.load(\"/kaggle/input/model-ritam/image_caption_model_final.pth\", map_location=device))\n"
     ]
    },
    {
     "data": {
      "text/plain": [
       "ImageCaptionModel(\n",
       "  (encoder): ViTModel(\n",
       "    (embeddings): ViTEmbeddings(\n",
       "      (patch_embeddings): ViTPatchEmbeddings(\n",
       "        (projection): Conv2d(3, 768, kernel_size=(16, 16), stride=(16, 16))\n",
       "      )\n",
       "      (dropout): Dropout(p=0.0, inplace=False)\n",
       "    )\n",
       "    (encoder): ViTEncoder(\n",
       "      (layer): ModuleList(\n",
       "        (0-11): 12 x ViTLayer(\n",
       "          (attention): ViTAttention(\n",
       "            (attention): ViTSelfAttention(\n",
       "              (query): Linear(in_features=768, out_features=768, bias=True)\n",
       "              (key): Linear(in_features=768, out_features=768, bias=True)\n",
       "              (value): Linear(in_features=768, out_features=768, bias=True)\n",
       "            )\n",
       "            (output): ViTSelfOutput(\n",
       "              (dense): Linear(in_features=768, out_features=768, bias=True)\n",
       "              (dropout): Dropout(p=0.0, inplace=False)\n",
       "            )\n",
       "          )\n",
       "          (intermediate): ViTIntermediate(\n",
       "            (dense): Linear(in_features=768, out_features=3072, bias=True)\n",
       "            (intermediate_act_fn): GELUActivation()\n",
       "          )\n",
       "          (output): ViTOutput(\n",
       "            (dense): Linear(in_features=3072, out_features=768, bias=True)\n",
       "            (dropout): Dropout(p=0.0, inplace=False)\n",
       "          )\n",
       "          (layernorm_before): LayerNorm((768,), eps=1e-12, elementwise_affine=True)\n",
       "          (layernorm_after): LayerNorm((768,), eps=1e-12, elementwise_affine=True)\n",
       "        )\n",
       "      )\n",
       "    )\n",
       "    (layernorm): LayerNorm((768,), eps=1e-12, elementwise_affine=True)\n",
       "    (pooler): ViTPooler(\n",
       "      (dense): Linear(in_features=768, out_features=768, bias=True)\n",
       "      (activation): Tanh()\n",
       "    )\n",
       "  )\n",
       "  (decoder): GPT2LMHeadModel(\n",
       "    (transformer): GPT2Model(\n",
       "      (wte): Embedding(50257, 768)\n",
       "      (wpe): Embedding(1024, 768)\n",
       "      (drop): Dropout(p=0.1, inplace=False)\n",
       "      (h): ModuleList(\n",
       "        (0-11): 12 x GPT2Block(\n",
       "          (ln_1): LayerNorm((768,), eps=1e-05, elementwise_affine=True)\n",
       "          (attn): GPT2Attention(\n",
       "            (c_attn): Conv1D(nf=2304, nx=768)\n",
       "            (c_proj): Conv1D(nf=768, nx=768)\n",
       "            (attn_dropout): Dropout(p=0.1, inplace=False)\n",
       "            (resid_dropout): Dropout(p=0.1, inplace=False)\n",
       "          )\n",
       "          (ln_2): LayerNorm((768,), eps=1e-05, elementwise_affine=True)\n",
       "          (mlp): GPT2MLP(\n",
       "            (c_fc): Conv1D(nf=3072, nx=768)\n",
       "            (c_proj): Conv1D(nf=768, nx=3072)\n",
       "            (act): NewGELUActivation()\n",
       "            (dropout): Dropout(p=0.1, inplace=False)\n",
       "          )\n",
       "        )\n",
       "      )\n",
       "      (ln_f): LayerNorm((768,), eps=1e-05, elementwise_affine=True)\n",
       "    )\n",
       "    (lm_head): Linear(in_features=768, out_features=50257, bias=False)\n",
       "  )\n",
       "  (projection): Linear(in_features=768, out_features=768, bias=True)\n",
       "  (cross_attn): MultiheadAttention(\n",
       "    (out_proj): NonDynamicallyQuantizableLinear(in_features=768, out_features=768, bias=True)\n",
       "  )\n",
       "  (img_to_decoder_dim): Linear(in_features=768, out_features=768, bias=True)\n",
       ")"
      ]
     },
     "execution_count": 62,
     "metadata": {},
     "output_type": "execute_result"
    }
   ],
   "source": [
    "bleu = evaluate.load(\"bleu\")\n",
    "rouge = evaluate.load(\"rouge\")\n",
    "meteor = evaluate.load(\"meteor\")\n",
    "    \n",
    "# Load models\n",
    "custom_model = ImageCaptionModel().to(device)\n",
    "custom_model.load_state_dict(torch.load(\"/kaggle/input/model-ritam/image_caption_model_final.pth\", map_location=device))\n",
    "custom_model.eval()\n",
    "                    \n"
   ]
  },
  {
   "cell_type": "code",
   "execution_count": 54,
   "metadata": {
    "execution": {
     "iopub.execute_input": "2025-04-13T20:24:38.020519Z",
     "iopub.status.busy": "2025-04-13T20:24:38.020241Z",
     "iopub.status.idle": "2025-04-13T20:24:38.024878Z",
     "shell.execute_reply": "2025-04-13T20:24:38.024341Z",
     "shell.execute_reply.started": "2025-04-13T20:24:38.020498Z"
    },
    "trusted": true
   },
   "outputs": [],
   "source": [
    "from torchvision import transforms\n",
    "transform = transforms.Compose([\n",
    "    transforms.Resize((224, 224)),\n",
    "    transforms.ToTensor(),\n",
    "    transforms.Normalize(mean=[0.485, 0.456, 0.406], std=[0.229, 0.224, 0.225])\n",
    "])\n"
   ]
  },
  {
   "cell_type": "code",
   "execution_count": 55,
   "metadata": {
    "execution": {
     "iopub.execute_input": "2025-04-13T20:24:38.875324Z",
     "iopub.status.busy": "2025-04-13T20:24:38.874759Z",
     "iopub.status.idle": "2025-04-13T20:24:39.111973Z",
     "shell.execute_reply": "2025-04-13T20:24:39.111413Z",
     "shell.execute_reply.started": "2025-04-13T20:24:38.875300Z"
    },
    "trusted": true
   },
   "outputs": [],
   "source": [
    "test_csv = \"/kaggle/input/dl-dataset-ass2/custom_captions_dataset/test.csv\"\n",
    "test_images = \"/kaggle/input/dl-dataset-ass2/custom_captions_dataset/test\"\n",
    "\n",
    "\n",
    "full_dataset = ImageCaptionDataset(test_csv, test_images, transform)\n",
    "# subset_indices = list(range(100))  # Use first 100 samples\n",
    "# test_dataset = Subset(full_dataset, subset_indices)\n",
    "# test_loader = DataLoader(test_dataset, batch_size=4, shuffle=False)\n",
    "    \n",
    "\n",
    "test_loader = DataLoader(full_dataset, batch_size=16, shuffle=False)"
   ]
  },
  {
   "cell_type": "code",
   "execution_count": 58,
   "metadata": {
    "execution": {
     "iopub.execute_input": "2025-04-13T20:25:33.403710Z",
     "iopub.status.busy": "2025-04-13T20:25:33.403224Z",
     "iopub.status.idle": "2025-04-13T20:25:33.726210Z",
     "shell.execute_reply": "2025-04-13T20:25:33.725412Z",
     "shell.execute_reply.started": "2025-04-13T20:25:33.403686Z"
    },
    "trusted": true
   },
   "outputs": [
    {
     "data": {
      "image/png": "[encoded data removed]",
      "text/plain": [
       "<Figure size 1500x300 with 4 Axes>"
      ]
     },
     "metadata": {},
     "output_type": "display_data"
    }
   ],
   "source": [
    "from PIL import Image\n",
    "\n",
    "# 1. Load the image properly\n",
    "sample_image_path = \"/kaggle/input/dl-dataset-ass2/custom_captions_dataset/test/test_1.jpg\"\n",
    "pil_image = Image.open(sample_image_path).convert('RGB') \n",
    "\n",
    "# 2. Apply transformations\n",
    "transform = transforms.Compose([\n",
    "    transforms.Resize((224, 224)),\n",
    "    transforms.ToTensor()\n",
    "])\n",
    "image_tensor = transform(pil_image)  # Now a valid tensor\n",
    "\n",
    "# 3. Visualize\n",
    "visualize_occlusion(image_tensor)\n"
   ]
  },
  {
   "cell_type": "code",
   "execution_count": 56,
   "metadata": {
    "execution": {
     "iopub.execute_input": "2025-04-13T20:24:42.898486Z",
     "iopub.status.busy": "2025-04-13T20:24:42.897657Z",
     "iopub.status.idle": "2025-04-13T20:24:42.901795Z",
     "shell.execute_reply": "2025-04-13T20:24:42.901060Z",
     "shell.execute_reply.started": "2025-04-13T20:24:42.898457Z"
    },
    "trusted": true
   },
   "outputs": [],
   "source": [
    "# Evaluate both models at different occlusion levels\n",
    "occlusion_levels = [0, 0.1, 0.5, 0.8]"
   ]
  },
  {
   "cell_type": "code",
   "execution_count": 67,
   "metadata": {
    "execution": {
     "iopub.execute_input": "2025-04-14T02:21:35.698861Z",
     "iopub.status.busy": "2025-04-14T02:21:35.698295Z",
     "iopub.status.idle": "2025-04-14T04:51:14.308520Z",
     "shell.execute_reply": "2025-04-14T04:51:14.307872Z",
     "shell.execute_reply.started": "2025-04-14T02:21:35.698839Z"
    },
    "trusted": true
   },
   "outputs": [
    {
     "name": "stdout",
     "output_type": "stream",
     "text": [
      "\n",
      "==================================================\n",
      "Evaluating Custom Model...\n",
      "\n",
      "Evaluating at 0% occlusion...\n"
     ]
    },
    {
     "name": "stderr",
     "output_type": "stream",
     "text": [
      "Processing 0% occlusion: 100%|██████████| 58/58 [37:19<00:00, 38.62s/it]\n"
     ]
    },
    {
     "name": "stdout",
     "output_type": "stream",
     "text": [
      "Saved perturbation data to perturbation_data/perturbation_data_custom_0.csv\n",
      "\n",
      "Evaluating at 10% occlusion...\n"
     ]
    },
    {
     "name": "stderr",
     "output_type": "stream",
     "text": [
      "Processing 10% occlusion: 100%|██████████| 58/58 [37:17<00:00, 38.58s/it]\n"
     ]
    },
    {
     "name": "stdout",
     "output_type": "stream",
     "text": [
      "Saved perturbation data to perturbation_data/perturbation_data_custom_0.1.csv\n",
      "\n",
      "Evaluating at 50% occlusion...\n"
     ]
    },
    {
     "name": "stderr",
     "output_type": "stream",
     "text": [
      "Processing 50% occlusion: 100%|██████████| 58/58 [37:18<00:00, 38.59s/it]\n"
     ]
    },
    {
     "name": "stdout",
     "output_type": "stream",
     "text": [
      "Saved perturbation data to perturbation_data/perturbation_data_custom_0.5.csv\n",
      "\n",
      "Evaluating at 80% occlusion...\n"
     ]
    },
    {
     "name": "stderr",
     "output_type": "stream",
     "text": [
      "Processing 80% occlusion: 100%|██████████| 58/58 [37:11<00:00, 38.48s/it]\n"
     ]
    },
    {
     "name": "stdout",
     "output_type": "stream",
     "text": [
      "Saved perturbation data to perturbation_data/perturbation_data_custom_0.8.csv\n"
     ]
    }
   ],
   "source": [
    "print(\"\\n\" + \"=\"*50)\n",
    "print(\"Evaluating Custom Model...\")\n",
    "custom_results = evaluate_on_occluded_images(\n",
    "    custom_model, test_loader, device, occlusion_levels, \"custom\"\n",
    ")\n",
    "\n"
   ]
  },
  {
   "cell_type": "code",
   "execution_count": 59,
   "metadata": {
    "execution": {
     "iopub.execute_input": "2025-04-13T20:25:42.478958Z",
     "iopub.status.busy": "2025-04-13T20:25:42.478219Z",
     "iopub.status.idle": "2025-04-14T01:49:06.889686Z",
     "shell.execute_reply": "2025-04-14T01:49:06.889062Z",
     "shell.execute_reply.started": "2025-04-13T20:25:42.478927Z"
    },
    "trusted": true
   },
   "outputs": [
    {
     "name": "stdout",
     "output_type": "stream",
     "text": [
      "\n",
      "==================================================\n",
      "Evaluating SmolVLM...\n",
      "\n",
      "Evaluating at 0% occlusion...\n"
     ]
    },
    {
     "name": "stderr",
     "output_type": "stream",
     "text": [
      "Processing 0% occlusion: 100%|██████████| 58/58 [1:20:51<00:00, 83.65s/it]\n"
     ]
    },
    {
     "name": "stdout",
     "output_type": "stream",
     "text": [
      "Saved perturbation data to perturbation_data/perturbation_data_smolvlm_0.csv\n",
      "\n",
      "Evaluating at 10% occlusion...\n"
     ]
    },
    {
     "name": "stderr",
     "output_type": "stream",
     "text": [
      "Processing 10% occlusion: 100%|██████████| 58/58 [1:18:37<00:00, 81.33s/it]\n"
     ]
    },
    {
     "name": "stdout",
     "output_type": "stream",
     "text": [
      "Saved perturbation data to perturbation_data/perturbation_data_smolvlm_0.1.csv\n",
      "\n",
      "Evaluating at 50% occlusion...\n"
     ]
    },
    {
     "name": "stderr",
     "output_type": "stream",
     "text": [
      "Processing 50% occlusion: 100%|██████████| 58/58 [1:21:18<00:00, 84.11s/it]\n"
     ]
    },
    {
     "name": "stdout",
     "output_type": "stream",
     "text": [
      "Saved perturbation data to perturbation_data/perturbation_data_smolvlm_0.5.csv\n",
      "\n",
      "Evaluating at 80% occlusion...\n"
     ]
    },
    {
     "name": "stderr",
     "output_type": "stream",
     "text": [
      "Processing 80% occlusion: 100%|██████████| 58/58 [1:22:14<00:00, 85.08s/it]\n"
     ]
    },
    {
     "name": "stdout",
     "output_type": "stream",
     "text": [
      "Saved perturbation data to perturbation_data/perturbation_data_smolvlm_0.8.csv\n"
     ]
    }
   ],
   "source": [
    "print(\"\\n\" + \"=\"*50)\n",
    "print(\"Evaluating SmolVLM...\")\n",
    "smolvlm_results = evaluate_on_occluded_images(\n",
    "    None, test_loader, device, occlusion_levels, \"smolvlm\"\n",
    ")\n",
    "\n"
   ]
  },
  {
   "cell_type": "code",
   "execution_count": 68,
   "metadata": {
    "execution": {
     "iopub.execute_input": "2025-04-14T04:51:33.658470Z",
     "iopub.status.busy": "2025-04-14T04:51:33.657644Z",
     "iopub.status.idle": "2025-04-14T04:51:33.663676Z",
     "shell.execute_reply": "2025-04-14T04:51:33.663083Z",
     "shell.execute_reply.started": "2025-04-14T04:51:33.658445Z"
    },
    "trusted": true
   },
   "outputs": [
    {
     "name": "stdout",
     "output_type": "stream",
     "text": [
      "\n",
      "Performance Comparison:\n",
      "Occlusion  | Model      | BLEU   | ROUGE-L | METEOR\n",
      "--------------------------------------------------\n",
      "0         % | Custom     | 0.0582 | 0.2470 | 0.2586\n",
      "10        % | Custom     | 0.0585 | 0.2465 | 0.2593\n",
      "50        % | Custom     | 0.0546 | 0.2432 | 0.2526\n",
      "80        % | Custom     | 0.0492 | 0.2366 | 0.2391\n"
     ]
    }
   ],
   "source": [
    "# Print comparison table\n",
    "print(\"\\nPerformance Comparison:\")\n",
    "print(f\"{'Occlusion':<10} | {'Model':<10} | {'BLEU':<6} | {'ROUGE-L':<7} | {'METEOR':<6}\")\n",
    "print(f\"{'-'*50}\")\n",
    "\n",
    "for level in occlusion_levels:\n",
    "    print(f\"{level*100:<10.0f}% | {'Custom':<10} | \"\n",
    "          f\"{custom_results[level]['bleu']:.4f} | \"\n",
    "          f\"{custom_results[level]['rouge_l']:.4f} | \"\n",
    "          f\"{custom_results[level]['meteor']:.4f}\")\n",
    "\n",
    "\n"
   ]
  },
  {
   "cell_type": "code",
   "execution_count": 61,
   "metadata": {
    "execution": {
     "iopub.execute_input": "2025-04-14T01:56:27.653655Z",
     "iopub.status.busy": "2025-04-14T01:56:27.653131Z",
     "iopub.status.idle": "2025-04-14T01:56:27.658918Z",
     "shell.execute_reply": "2025-04-14T01:56:27.658271Z",
     "shell.execute_reply.started": "2025-04-14T01:56:27.653620Z"
    },
    "trusted": true
   },
   "outputs": [
    {
     "name": "stdout",
     "output_type": "stream",
     "text": [
      "\n",
      "Performance Comparison:\n",
      "Occlusion  | Model      | BLEU   | ROUGE-L | METEOR\n",
      "--------------------------------------------------\n",
      "0         % | SmolVLM    | 0.0124 | 0.1757 | 0.1497\n",
      "10        % | SmolVLM    | 0.0105 | 0.1708 | 0.1431\n",
      "50        % | SmolVLM    | 0.0058 | 0.1599 | 0.1349\n",
      "80        % | SmolVLM    | 0.0037 | 0.1528 | 0.1263\n"
     ]
    }
   ],
   "source": [
    "# Print comparison table\n",
    "print(\"\\nPerformance Comparison:\")\n",
    "print(f\"{'Occlusion':<10} | {'Model':<10} | {'BLEU':<6} | {'ROUGE-L':<7} | {'METEOR':<6}\")\n",
    "print(f\"{'-'*50}\")\n",
    "\n",
    "for level in occlusion_levels:\n",
    "    print(f\"{level*100:<10.0f}% | {'SmolVLM':<10} | \"\n",
    "          f\"{smolvlm_results[level]['bleu']:.4f} | \"\n",
    "          f\"{smolvlm_results[level]['rouge_l']:.4f} | \"\n",
    "          f\"{smolvlm_results[level]['meteor']:.4f}\")"
   ]
  },
  {
   "cell_type": "code",
   "execution_count": null,
   "metadata": {
    "trusted": true
   },
   "outputs": [],
   "source": []
  }
 ],
 "metadata": {
  "kaggle": {
   "accelerator": "nvidiaTeslaT4",
   "dataSources": [
    {
     "datasetId": 7134699,
     "sourceId": 11392422,
     "sourceType": "datasetVersion"
    },
    {
     "datasetId": 7136378,
     "sourceId": 11394792,
     "sourceType": "datasetVersion"
    }
   ],
   "dockerImageVersionId": 31011,
   "isGpuEnabled": true,
   "isInternetEnabled": true,
   "language": "python",
   "sourceType": "notebook"
  },
  "kernelspec": {
   "display_name": "Python 3",
   "language": "python",
   "name": "python3"
  },
  "language_info": {
   "codemirror_mode": {
    "name": "ipython",
    "version": 3
   },
   "file_extension": ".py",
   "mimetype": "text/x-python",
   "name": "python",
   "nbconvert_exporter": "python",
   "pygments_lexer": "ipython3",
   "version": "3.11.11"
  }
 },
 "nbformat": 4,
 "nbformat_minor": 4
}
